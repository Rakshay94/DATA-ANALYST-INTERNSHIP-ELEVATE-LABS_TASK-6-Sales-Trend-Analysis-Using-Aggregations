{
  "cells": [
    {
      "cell_type": "markdown",
      "metadata": {},
      "source": [
        "# Sales Trend Analysis \u2014 SQL + EDA\n\nThis notebook shows how to run SQL on the `online_sales` SQLite DB and produce monthly revenue & order volume results."
      ]
    },
    {
      "cell_type": "code",
      "execution_count": null,
      "metadata": {},
      "outputs": [],
      "source": [
        "import sqlite3\nimport pandas as pd\nconn = sqlite3.connect('/mnt/data/Sales_Trend_Analysis/online_sales.db')\nq = open('/mnt/data/Sales_Trend_Analysis/sql/analysis.sql').read()\ndf = pd.read_sql_query(q, conn)\ndf['year_month'] = df['year'] + '-' + df['month']\ndf.head()\n"
      ]
    },
    {
      "cell_type": "markdown",
      "metadata": {},
      "source": [
        "## Plots\nRun the following cells after loading the dataframe above to visualize trends."
      ]
    },
    {
      "cell_type": "code",
      "execution_count": null,
      "metadata": {},
      "outputs": [],
      "source": [
        "import matplotlib.pyplot as plt\nplt.figure(figsize=(10,4))\nplt.plot(df['year_month'], df['monthly_revenue'], marker='o')\nplt.xticks(rotation=45)\nplt.title('Monthly Revenue')\nplt.show()\n"
      ]
    }
  ],
  "metadata": {
    "kernelspec": {
      "display_name": "Python 3",
      "language": "python",
      "name": "python3"
    },
    "language_info": {
      "name": "python",
      "version": "3.8"
    }
  },
  "nbformat": 4,
  "nbformat_minor": 5
}